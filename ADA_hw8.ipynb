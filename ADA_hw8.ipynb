{
 "cells": [
  {
   "cell_type": "markdown",
   "metadata": {},
   "source": [
    "### Домашняя работа №8"
   ]
  },
  {
   "cell_type": "markdown",
   "metadata": {},
   "source": [
    "1. Можно ли отобрать наиболее значимые признаки с помощью PCA?\n",
    "2. Написать свою реализацию метода главных компонент с помощью сингулярного разложения с использованием функции numpy.linalg.svd()\n",
    "3. Обучить любую модель классификации на датасете iris до применения PCA и после него. Сравнить качество классификации по отложенной выборке."
   ]
  },
  {
   "cell_type": "markdown",
   "metadata": {},
   "source": [
    "#### 1. Можно ли отобрать наиболее значимые признаки с помощью PCA?"
   ]
  },
  {
   "cell_type": "markdown",
   "metadata": {},
   "source": [
    "Нельзя, т.к. отбор признаков и метод главных компонент - это разные методы решения задачи понижения размерности данных. При создании новых признаков меньшей размерности $Z=X\\cdot W$, через линейную комбинацию, метод главных компонент задействует все исходные признаки $X$."
   ]
  },
  {
   "cell_type": "markdown",
   "metadata": {},
   "source": [
    "#### 2. Написать свою реализацию метода главных компонент с помощью сингулярного разложения с использованием функции numpy.linalg.svd()"
   ]
  },
  {
   "cell_type": "code",
   "execution_count": 1,
   "metadata": {},
   "outputs": [],
   "source": [
    "import numpy as np\n",
    "import matplotlib.pyplot as plt\n",
    "\n",
    "from sklearn import datasets\n",
    "from sklearn.metrics import accuracy_score\n",
    "from sklearn.model_selection import train_test_split\n",
    "\n",
    "# импортируем наше дерево из Lesson_8.py\n",
    "from Lesson_8 import *\n",
    "\n",
    "%matplotlib inline"
   ]
  },
  {
   "cell_type": "code",
   "execution_count": 2,
   "metadata": {},
   "outputs": [
    {
     "data": {
      "text/plain": [
       "(150, 4)"
      ]
     },
     "execution_count": 2,
     "metadata": {},
     "output_type": "execute_result"
    }
   ],
   "source": [
    "# Загрузим игрушечный датасет из sklearn\n",
    "iris = datasets.load_iris()\n",
    "X = iris.data\n",
    "y = iris.target\n",
    "\n",
    "X.shape"
   ]
  },
  {
   "cell_type": "code",
   "execution_count": 3,
   "metadata": {},
   "outputs": [],
   "source": [
    "means = X.mean(axis=0)\n",
    "stds = X.std(axis=0, ddof=1)\n",
    "\n",
    "X_scaled = (X - means)/stds"
   ]
  },
  {
   "cell_type": "code",
   "execution_count": 4,
   "metadata": {},
   "outputs": [],
   "source": [
    "def fro_norm(X):\n",
    "    return np.sum(X ** 2) ** 0.5"
   ]
  },
  {
   "cell_type": "code",
   "execution_count": 5,
   "metadata": {},
   "outputs": [],
   "source": [
    "def pca_with_svd(X, n_components):\n",
    "    U, s, Vt = np.linalg.svd(X)\n",
    "    \n",
    "    D = np.zeros_like(X, dtype=float)\n",
    "    D[np.diag_indices(min(X.shape))] = s\n",
    "    V = Vt.T\n",
    "    \n",
    "    # проверка\n",
    "    np.testing.assert_array_almost_equal(U.dot(D).dot(Vt), X)\n",
    "    \n",
    "    W = V[:, :n_components]\n",
    "    Z = X.dot(W)\n",
    "    \n",
    "    return Z"
   ]
  },
  {
   "cell_type": "code",
   "execution_count": 6,
   "metadata": {},
   "outputs": [],
   "source": [
    "X_pca_4 = pca_with_svd(X_scaled, n_components=4)\n",
    "X_pca_3 = pca_with_svd(X_scaled, n_components=3)\n",
    "X_pca_2 = pca_with_svd(X_scaled, n_components=2)\n",
    "X_pca_1 = pca_with_svd(X_scaled, n_components=1)"
   ]
  },
  {
   "cell_type": "code",
   "execution_count": 7,
   "metadata": {},
   "outputs": [
    {
     "name": "stdout",
     "output_type": "stream",
     "text": [
      "Норма Фробениуса:\n",
      " - исходной матрицы X:   24.413111231467408\n",
      " - четырех ГК матрицы X: 24.413111231467404\n",
      " - трех ГК матрицы X:    24.349814976137615\n",
      " - двух ГК матрицы X:    23.89658374981683\n",
      " - одной ГК матрицы X:   20.85320538102637\n"
     ]
    }
   ],
   "source": [
    "print('Норма Фробениуса:')\n",
    "print(f' - исходной матрицы X:   {fro_norm(X_scaled)}')\n",
    "print(f' - четырех ГК матрицы X: {fro_norm(X_pca_4)}')\n",
    "print(f' - трех ГК матрицы X:    {fro_norm(X_pca_3)}')\n",
    "print(f' - двух ГК матрицы X:    {fro_norm(X_pca_2)}')\n",
    "print(f' - одной ГК матрицы X:   {fro_norm(X_pca_1)}')"
   ]
  },
  {
   "cell_type": "markdown",
   "metadata": {},
   "source": [
    "Норма Фробениуса существенно изменяется с понижением количества главных компонент."
   ]
  },
  {
   "cell_type": "markdown",
   "metadata": {},
   "source": [
    "#### 3. Обучить любую модель классификации на датасете iris до применения PCA и после него. Сравнить качество классификации по отложенной выборке."
   ]
  },
  {
   "cell_type": "code",
   "execution_count": 8,
   "metadata": {},
   "outputs": [],
   "source": [
    "def accuracy_score(actual, predicted):\n",
    "    correct = 0\n",
    "    for i in range(len(actual)):\n",
    "        if actual[i] == predicted[i]:\n",
    "            correct += 1\n",
    "    return correct / float(len(actual)) * 100.0"
   ]
  },
  {
   "cell_type": "code",
   "execution_count": 9,
   "metadata": {},
   "outputs": [],
   "source": [
    "splitted_data = train_test_split(X_scaled, y, test_size = 0.35, random_state = 42)\n",
    "splitted_data_pca = train_test_split(X_pca_2, y, test_size = 0.35, random_state = 42)"
   ]
  },
  {
   "cell_type": "code",
   "execution_count": 10,
   "metadata": {},
   "outputs": [],
   "source": [
    "def classify_irises_with_tree(*data):\n",
    "    X_train, X_test, y_train, y_test = data\n",
    "    \n",
    "    # достаточно двух разбиений\n",
    "    tree = build_tree(X_train, y_train, max_depth=2)\n",
    "    \n",
    "    train_pred = predict(X_train, tree)\n",
    "    test_pred = predict(X_test, tree)\n",
    "    \n",
    "    print('Доля верных ответов:')\n",
    "    print(f' - на обучающей выборке: {accuracy_score(y_train, train_pred)}')\n",
    "    print(f' - на тестовой выборке:  {accuracy_score(y_test, test_pred)}')"
   ]
  },
  {
   "cell_type": "code",
   "execution_count": 11,
   "metadata": {},
   "outputs": [
    {
     "name": "stdout",
     "output_type": "stream",
     "text": [
      "Доля верных ответов:\n",
      " - на обучающей выборке: 94.84536082474226\n",
      " - на тестовой выборке:  98.11320754716981\n"
     ]
    }
   ],
   "source": [
    "classify_irises_with_tree(*splitted_data)"
   ]
  },
  {
   "cell_type": "code",
   "execution_count": 12,
   "metadata": {},
   "outputs": [
    {
     "name": "stdout",
     "output_type": "stream",
     "text": [
      "Доля верных ответов:\n",
      " - на обучающей выборке: 92.78350515463917\n",
      " - на тестовой выборке:  94.33962264150944\n"
     ]
    }
   ],
   "source": [
    "classify_irises_with_tree(*splitted_data_pca)"
   ]
  },
  {
   "cell_type": "code",
   "execution_count": null,
   "metadata": {},
   "outputs": [],
   "source": []
  }
 ],
 "metadata": {
  "kernelspec": {
   "display_name": "Python 3",
   "language": "python",
   "name": "python3"
  },
  "language_info": {
   "codemirror_mode": {
    "name": "ipython",
    "version": 3
   },
   "file_extension": ".py",
   "mimetype": "text/x-python",
   "name": "python",
   "nbconvert_exporter": "python",
   "pygments_lexer": "ipython3",
   "version": "3.7.4"
  }
 },
 "nbformat": 4,
 "nbformat_minor": 2
}
