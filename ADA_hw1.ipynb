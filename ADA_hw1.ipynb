{
 "cells": [
  {
   "cell_type": "markdown",
   "metadata": {},
   "source": [
    "# Урок 1. Алгоритм линейной регрессии. Градиентный спуск"
   ]
  },
  {
   "cell_type": "markdown",
   "metadata": {},
   "source": [
    "### Простая линейная регрессия"
   ]
  },
  {
   "cell_type": "markdown",
   "metadata": {},
   "source": [
    "Линейная регрессия - это метод прогнозирования, которому уже более 200 лет.  \n",
    "Простая линейная регрессия - это отличный первый алгоритм машинного обучения для самостоятельной реализации, поскольку он быстро настраивается и достаточно прост для понимания.  \n",
    "В этом уроке вы узнаете, как реализовать простой алгоритм линейной регрессии с нуля в Python. \n",
    "\n",
    "После завершения этого урока вы узнаете:  \n",
    "- Как реализовать линейную регрессию \"с нуля\" на Python.  \n",
    "- Как найти оптимальные коэффициенты линейной регрессии.  \n",
    "- Как делать прогнозы и оценить работу модели.  \n",
    "\n",
    "Давайте начнем!"
   ]
  },
  {
   "cell_type": "code",
   "execution_count": 1,
   "metadata": {
    "colab": {},
    "colab_type": "code",
    "id": "ak8b3KV45kVW"
   },
   "outputs": [],
   "source": [
    "import numpy as np\n",
    "import matplotlib.pyplot as plt\n",
    "#%config InlineBackend.figure_format='retina'\n",
    "import warnings\n",
    "warnings.simplefilter('ignore')"
   ]
  },
  {
   "cell_type": "markdown",
   "metadata": {},
   "source": [
    "Линейная регрессия предполагает линейную зависимость между входными переменными (X) и целевой переменной (y).  \n",
    "Это означает, что выход (y) может быть вычислен как **линейная комбинация** входных переменных (X).  \n",
    "Если Х состоит из одной переменной, то линейная регрессия называется простой.  \n",
    "В простой линейной регрессии мы можем использовать статистику обучающих данных для оценки коэффициентов, требуемых моделью для прогнозирования новых данных.  \n",
    "Уравнение простой линейной регрессии может быть записано как:\n",
    "$$y = w_0 + w_1 × X$$  \n",
    "Как видите, это простое уравнение прямой, известное нам еще со школы.  \n",
    "w0 и w1 - это коэффициенты, которые мы должны найти.  \n",
    "w0 называется смещением или bias и отвечает за смещение регрессионной прямой по оси y относительно начала координат.  \n",
    "w1 - это коэффициент при признаке Х, он отвечает за угол наклона прямой.  \n",
    "Как только коэффициенты известны, мы можем использовать это уравнение для оценки целевой переменной (y), на новых данных (X_test).  \n",
    "Когда признаков больше чем один, уравнение линейной регрессии принимает следующий вид:  \n",
    "$$y = w_0 + \\sum_{i=1}^m w_i x_i$$  \n",
    "Если мы добавим фиктивный признак x0 = 1, тогда уравнение можно переписать чуть более компактно, убрав w0 под знак суммы:\n",
    "$$y = \\sum_{i=0}^m w_i x_i = \\vec{w}^T \\vec{x}$$. \n",
    "Так же его можно записать в мтаричном виде:  \n",
    "$$\\vec y = X \\vec w + \\epsilon$$  \n",
    "ϵ – непрогнозируемая ошибка модели  \n",
    "\n",
    "Непрогнозируемая ошибка складывается из:\n",
    "- Смещение (Bias) – средняя ошибка по всевозможным наборам данных (показывает, насколько модель отличается от \"идеальной\")\n",
    "- Дисперсия (Var) – вариативность ошибки (то, на сколько ошибка будет отличаться, если обучать модель на разных данных).  \n",
    "Показывает, насколько утойчива модель.\n",
    "- неустранимой ошибки: σ"
   ]
  },
  {
   "cell_type": "markdown",
   "metadata": {},
   "source": [
    "![bias_var.png](bias_var.png)"
   ]
  },
  {
   "cell_type": "markdown",
   "metadata": {},
   "source": [
    "Сгенерируем простой пример для наглядности:"
   ]
  },
  {
   "cell_type": "code",
   "execution_count": 2,
   "metadata": {
    "colab": {},
    "colab_type": "code",
    "id": "i77tZbAd5plB"
   },
   "outputs": [],
   "source": [
    "X = np.array([[1, 1, 1, 1, 1,\n",
    "               1, 1, 1, 1, 1],\n",
    "              [1, 1, 2, 1, 3, \n",
    "               0, 5, 10, 1, 2]]).T"
   ]
  },
  {
   "cell_type": "code",
   "execution_count": 3,
   "metadata": {
    "colab": {
     "base_uri": "https://localhost:8080/",
     "height": 50
    },
    "colab_type": "code",
    "id": "U3vVuLOc6Us6",
    "outputId": "5faa41ba-addb-4772-b4ec-37580000e6cc"
   },
   "outputs": [
    {
     "data": {
      "text/plain": [
       "array([[ 1,  1],\n",
       "       [ 1,  1],\n",
       "       [ 1,  2],\n",
       "       [ 1,  1],\n",
       "       [ 1,  3],\n",
       "       [ 1,  0],\n",
       "       [ 1,  5],\n",
       "       [ 1, 10],\n",
       "       [ 1,  1],\n",
       "       [ 1,  2]])"
      ]
     },
     "execution_count": 3,
     "metadata": {},
     "output_type": "execute_result"
    }
   ],
   "source": [
    "X  # <- матрица \"объекты-признаки\" ([x0, x1])"
   ]
  },
  {
   "cell_type": "code",
   "execution_count": 4,
   "metadata": {
    "colab": {
     "base_uri": "https://localhost:8080/",
     "height": 34
    },
    "colab_type": "code",
    "id": "ejifaMBe6VaP",
    "outputId": "190a541b-5c6d-48f6-8982-b513de5d7606"
   },
   "outputs": [
    {
     "data": {
      "text/plain": [
       "(10, 2)"
      ]
     },
     "execution_count": 4,
     "metadata": {},
     "output_type": "execute_result"
    }
   ],
   "source": [
    "X.shape"
   ]
  },
  {
   "cell_type": "code",
   "execution_count": 5,
   "metadata": {
    "colab": {},
    "colab_type": "code",
    "id": "VsNrKi1Q6Wmh"
   },
   "outputs": [],
   "source": [
    "y = [45, 55, 50, 59, 65, 35, 75, 80, 50, 60]"
   ]
  },
  {
   "cell_type": "markdown",
   "metadata": {},
   "source": [
    "Построим модель линейной регрессии!"
   ]
  },
  {
   "cell_type": "code",
   "execution_count": 6,
   "metadata": {
    "colab": {
     "base_uri": "https://localhost:8080/",
     "height": 282
    },
    "colab_type": "code",
    "id": "OTikrodr6n-i",
    "outputId": "9c347927-ae0d-40ba-bcd7-fdd9de2688bf"
   },
   "outputs": [
    {
     "data": {
      "image/png": "[encoded data removed]",
      "text/plain": [
       "<Figure size 720x576 with 1 Axes>"
      ]
     },
     "metadata": {
      "needs_background": "light"
     },
     "output_type": "display_data"
    }
   ],
   "source": [
    "plt.figure(figsize=(10, 8))\n",
    "plt.scatter(X[:,1], y)\n",
    "plt.plot(X[:,1], 45*np.ones(10) + X[:,1]*7, label='model_1')\n",
    "plt.plot(X[:,1], 40*np.ones(10) + X[:,1]*8, label='model_2')\n",
    "plt.legend();"
   ]
  },
  {
   "cell_type": "markdown",
   "metadata": {},
   "source": [
    "Сделаем прогноз значений y на обучающих данных:"
   ]
  },
  {
   "cell_type": "code",
   "execution_count": 7,
   "metadata": {
    "colab": {},
    "colab_type": "code",
    "id": "NntLxvtU7CbH"
   },
   "outputs": [],
   "source": [
    "y_pred1 = 45*np.ones(10) + X[:,1]*7\n",
    "y_pred2 = 40*np.ones(10) + X[:,1]*8"
   ]
  },
  {
   "cell_type": "code",
   "execution_count": 8,
   "metadata": {},
   "outputs": [
    {
     "data": {
      "text/plain": [
       "array([ 52.,  52.,  59.,  52.,  66.,  45.,  80., 115.,  52.,  59.])"
      ]
     },
     "execution_count": 8,
     "metadata": {},
     "output_type": "execute_result"
    }
   ],
   "source": [
    "y_pred1"
   ]
  },
  {
   "cell_type": "code",
   "execution_count": 9,
   "metadata": {
    "colab": {
     "base_uri": "https://localhost:8080/",
     "height": 50
    },
    "colab_type": "code",
    "id": "XsDNASCq9VBe",
    "outputId": "910d806a-ccc1-45b8-bdac-56e3f26963c2"
   },
   "outputs": [
    {
     "data": {
      "text/plain": [
       "array([ 48.,  48.,  56.,  48.,  64.,  40.,  80., 120.,  48.,  56.])"
      ]
     },
     "execution_count": 9,
     "metadata": {},
     "output_type": "execute_result"
    }
   ],
   "source": [
    "y_pred2"
   ]
  },
  {
   "cell_type": "code",
   "execution_count": 10,
   "metadata": {},
   "outputs": [
    {
     "data": {
      "text/plain": [
       "[45, 55, 50, 59, 65, 35, 75, 80, 50, 60]"
      ]
     },
     "execution_count": 10,
     "metadata": {},
     "output_type": "execute_result"
    }
   ],
   "source": [
    "y"
   ]
  },
  {
   "cell_type": "markdown",
   "metadata": {},
   "source": [
    "### Как мы можем оценить работу модели?"
   ]
  },
  {
   "cell_type": "markdown",
   "metadata": {},
   "source": [
    "1. Разность прогнозов"
   ]
  },
  {
   "cell_type": "code",
   "execution_count": 11,
   "metadata": {
    "colab": {},
    "colab_type": "code",
    "id": "zbsqjAxH9WqI"
   },
   "outputs": [
    {
     "name": "stdout",
     "output_type": "stream",
     "text": [
      "Разность прогнозов наших моделей: -58.0, -34.0\n"
     ]
    }
   ],
   "source": [
    "err1 = np.sum(y - y_pred1)\n",
    "err2 = np.sum(y - y_pred2)\n",
    "print(f'Разность прогнозов наших моделей: {err1}, {err2}')"
   ]
  },
  {
   "cell_type": "markdown",
   "metadata": {},
   "source": [
    "2. Средняя абсолютная ошибка (MAE)"
   ]
  },
  {
   "cell_type": "code",
   "execution_count": 12,
   "metadata": {
    "colab": {},
    "colab_type": "code",
    "id": "vUqCthPf9eYI"
   },
   "outputs": [
    {
     "name": "stdout",
     "output_type": "stream",
     "text": [
      "MAE наших моделей: 8.0, 8.4\n"
     ]
    }
   ],
   "source": [
    "mae_1 = np.sum(np.abs(y - y_pred1))/len(y)\n",
    "mae_2 = np.sum(np.abs(y - y_pred2))/len(y)\n",
    "print(f'MAE наших моделей: {mae_1}, {mae_2}')"
   ]
  },
  {
   "cell_type": "code",
   "execution_count": 13,
   "metadata": {},
   "outputs": [],
   "source": [
    "def calc_mae(y, y_pred):\n",
    "    return np.mean(np.abs(y - y_pred))"
   ]
  },
  {
   "cell_type": "markdown",
   "metadata": {},
   "source": [
    "3. Среднеквадратичная ошибка (MSE)"
   ]
  },
  {
   "cell_type": "code",
   "execution_count": 14,
   "metadata": {
    "colab": {},
    "colab_type": "code",
    "id": "XTn2bZIg_EBS"
   },
   "outputs": [
    {
     "name": "stdout",
     "output_type": "stream",
     "text": [
      "MSE наших моделей: 154.4, 188.6\n"
     ]
    }
   ],
   "source": [
    "mse_1 = np.mean((y - y_pred1)**2)\n",
    "mse_2 = np.mean((y - y_pred2)**2)\n",
    "print(f'MSE наших моделей: {mse_1}, {mse_2}')"
   ]
  },
  {
   "cell_type": "code",
   "execution_count": 15,
   "metadata": {},
   "outputs": [],
   "source": [
    "def calc_mse(y, y_pred):\n",
    "    return np.mean((y - y_pred)**2)"
   ]
  },
  {
   "cell_type": "markdown",
   "metadata": {},
   "source": [
    "4. RMSE"
   ]
  },
  {
   "cell_type": "code",
   "execution_count": 16,
   "metadata": {},
   "outputs": [
    {
     "name": "stdout",
     "output_type": "stream",
     "text": [
      "MSE наших моделей: 12.425779653607254, 13.733171520082315\n"
     ]
    }
   ],
   "source": [
    "rmse_1 = np.sqrt(np.mean((y - y_pred1)**2))\n",
    "rmse_2 = np.sqrt(np.mean((y - y_pred2)**2))\n",
    "print(f'MSE наших моделей: {rmse_1}, {rmse_2}')"
   ]
  },
  {
   "cell_type": "markdown",
   "metadata": {},
   "source": [
    "5. Коэффициент детерминации (R2)"
   ]
  },
  {
   "cell_type": "code",
   "execution_count": 17,
   "metadata": {},
   "outputs": [],
   "source": [
    "# предлагаю реализовать самим :)"
   ]
  },
  {
   "cell_type": "code",
   "execution_count": 18,
   "metadata": {},
   "outputs": [],
   "source": [
    "def rSquare(y, y_pred):\n",
    "    sse = ((y - y_pred) ** 2).sum(axis=0, dtype=np.float64)\n",
    "    tse = ((y - np.average(y, axis=0)) ** 2).sum(axis=0, dtype=np.float64)\n",
    "    r2_score = 1 - (sse / tse)\n",
    "    return r2_score"
   ]
  },
  {
   "cell_type": "code",
   "execution_count": 19,
   "metadata": {},
   "outputs": [
    {
     "name": "stdout",
     "output_type": "stream",
     "text": [
      "R2 наших моделей: 0.0689821514712976, -0.13724071394114823\n"
     ]
    }
   ],
   "source": [
    "r2_1 = rSquare(y, y_pred1)\n",
    "r2_2 = rSquare(y, y_pred2)\n",
    "print(f'R2 наших моделей: {r2_1}, {r2_2}')"
   ]
  },
  {
   "cell_type": "code",
   "execution_count": 20,
   "metadata": {},
   "outputs": [
    {
     "name": "stdout",
     "output_type": "stream",
     "text": [
      "R2 наших моделей: 0.0689821514712976, -0.13724071394114823\n"
     ]
    }
   ],
   "source": [
    "from sklearn.metrics import r2_score\n",
    "\n",
    "r2_score_1 = r2_score(y, y_pred1)\n",
    "r2_score_2 = r2_score(y, y_pred2)\n",
    "\n",
    "print(f'R2 наших моделей: {r2_score_1}, {r2_score_2}')"
   ]
  },
  {
   "cell_type": "code",
   "execution_count": 21,
   "metadata": {},
   "outputs": [],
   "source": [
    "# Значения самописной функции и sklearn идентичны :)"
   ]
  },
  {
   "cell_type": "markdown",
   "metadata": {},
   "source": [
    "### Методы поиска оптимальных параметров"
   ]
  },
  {
   "cell_type": "markdown",
   "metadata": {
    "colab_type": "text",
    "id": "R4zHyZ2Da5HV"
   },
   "source": [
    "1. **Метод наименьших квадратов (МНК)**   \n",
    "Суть метода: минимизируем среднеквадратичную ошибку (MSE) между реальным значением целевой переменной и прогнозом, выданным моделью.   \n",
    "$$\\large \\begin{array}{rcl}\\mathcal{L}\\left(X, \\vec{y}, \\vec{w} \\right) &=& \\frac{1}{2n} \\sum_{i=1}^n \\left(y_i - \\vec{w}^T \\vec{x}_i\\right)^2 \\\\ &=& \\frac{1}{2n} \\left\\| \\vec{y} - X \\vec{w} \\right\\|_2^2 \\\\ &=& \\frac{1}{2n} \\left(\\vec{y} - X \\vec{w}\\right)^T \\left(\\vec{y} - X \\vec{w}\\right) \\end{array}$$  \n",
    "\n",
    "Для этого необходимо вычислить производные по параметрам модели, приравнять их к нулю и решить полученные уравнения относительно w  \n",
    "$$\\large\\mathcal{L}{\\partial \\vec{w}} = 0$$\n",
    "$$\\vec{w} = \\left(X^T X\\right)^{-1} X^T \\vec{y}$$  "
   ]
  },
  {
   "cell_type": "markdown",
   "metadata": {},
   "source": [
    "Реализуем этот метод! (но для этого придется перемножить пару матриц О_о)  \n",
    "Для тех, кто подзабыл как это делается: http://matrixmultiplication.xyz"
   ]
  },
  {
   "cell_type": "code",
   "execution_count": 22,
   "metadata": {},
   "outputs": [
    {
     "name": "stdout",
     "output_type": "stream",
     "text": [
      "[47.23214286  3.91071429]\n"
     ]
    }
   ],
   "source": [
    "W = np.linalg.inv(np.dot(X.T, X)) @ X.T @ y\n",
    "print(W)"
   ]
  },
  {
   "cell_type": "code",
   "execution_count": 23,
   "metadata": {
    "colab": {
     "base_uri": "https://localhost:8080/",
     "height": 282
    },
    "colab_type": "code",
    "id": "Lyg-J3H7Bnv5",
    "outputId": "7701dd28-d123-4773-cd1f-1439abfb6d90"
   },
   "outputs": [
    {
     "data": {
      "image/png": "[encoded data removed]",
      "text/plain": [
       "<Figure size 720x576 with 1 Axes>"
      ]
     },
     "metadata": {
      "needs_background": "light"
     },
     "output_type": "display_data"
    }
   ],
   "source": [
    "plt.figure(figsize=(10, 8))\n",
    "plt.scatter(X[:,1], y)\n",
    "plt.plot(X[:,1], 45*np.ones(10) + X[:,1]*7, label='model_1')\n",
    "plt.plot(X[:,1], 40*np.ones(10) + X[:,1]*8, label='model_2')\n",
    "plt.plot(X[:,1], W[0] + W[1] * X[:,1], label='opt_model')\n",
    "plt.legend();"
   ]
  },
  {
   "cell_type": "markdown",
   "metadata": {
    "colab": {},
    "colab_type": "code",
    "id": "JTSC2cFnCd8T"
   },
   "source": [
    "Оценка модели:"
   ]
  },
  {
   "cell_type": "code",
   "execution_count": 24,
   "metadata": {
    "colab": {
     "base_uri": "https://localhost:8080/",
     "height": 34
    },
    "colab_type": "code",
    "id": "MYSrwISJDGfS",
    "outputId": "891bfd3a-142c-466c-a9d9-7ebfb303e86c"
   },
   "outputs": [
    {
     "data": {
      "text/plain": [
       "154.4"
      ]
     },
     "execution_count": 24,
     "metadata": {},
     "output_type": "execute_result"
    }
   ],
   "source": [
    "# метрики качества предыдущих моделей:\n",
    "calc_mse(y, y_pred1)"
   ]
  },
  {
   "cell_type": "code",
   "execution_count": 25,
   "metadata": {
    "colab": {
     "base_uri": "https://localhost:8080/",
     "height": 34
    },
    "colab_type": "code",
    "id": "AaE_x_nCDW3x",
    "outputId": "74189131-5508-4ba0-a346-42b2ba6ef418"
   },
   "outputs": [
    {
     "data": {
      "text/plain": [
       "8.0"
      ]
     },
     "execution_count": 25,
     "metadata": {},
     "output_type": "execute_result"
    }
   ],
   "source": [
    "calc_mae(y, y_pred1)"
   ]
  },
  {
   "cell_type": "code",
   "execution_count": 26,
   "metadata": {
    "colab": {
     "base_uri": "https://localhost:8080/",
     "height": 50
    },
    "colab_type": "code",
    "id": "Yxo6vu3NDaTC",
    "outputId": "7e152226-fe88-4e14-ebee-1501abb61966"
   },
   "outputs": [
    {
     "data": {
      "text/plain": [
       "array([51.14285714, 51.14285714, 55.05357143, 51.14285714, 58.96428571,\n",
       "       47.23214286, 66.78571429, 86.33928571, 51.14285714, 55.05357143])"
      ]
     },
     "execution_count": 26,
     "metadata": {},
     "output_type": "execute_result"
    }
   ],
   "source": [
    "# прогноз модели с оптимальными параметрами:\n",
    "y_pred3 = W[0] + W[1]*X[:,1]\n",
    "y_pred3"
   ]
  },
  {
   "cell_type": "code",
   "execution_count": 27,
   "metadata": {
    "colab": {
     "base_uri": "https://localhost:8080/",
     "height": 34
    },
    "colab_type": "code",
    "id": "_WtO6lvhDmQ6",
    "outputId": "8de8b895-85d8-448e-f565-b70e93a5dd25"
   },
   "outputs": [
    {
     "data": {
      "text/plain": [
       "45.937499999999986"
      ]
     },
     "execution_count": 27,
     "metadata": {},
     "output_type": "execute_result"
    }
   ],
   "source": [
    "calc_mse(y, y_pred3)"
   ]
  },
  {
   "cell_type": "code",
   "execution_count": 28,
   "metadata": {
    "colab": {
     "base_uri": "https://localhost:8080/",
     "height": 34
    },
    "colab_type": "code",
    "id": "ul3IEwWlDp-e",
    "outputId": "7567da7c-ce56-4eaa-8c90-9979ca755b4d"
   },
   "outputs": [
    {
     "data": {
      "text/plain": [
       "6.182142857142856"
      ]
     },
     "execution_count": 28,
     "metadata": {},
     "output_type": "execute_result"
    }
   ],
   "source": [
    "calc_mae(y, y_pred3)"
   ]
  },
  {
   "cell_type": "markdown",
   "metadata": {
    "colab_type": "text",
    "id": "JAOgIXLRa--g"
   },
   "source": [
    "**2. Градиентный спуск**  \n",
    "\n",
    "Градиентный спуск - это итеративный алгоритм поиска весов признаков.  \n",
    "Алгоритм обновляет веса с учетом градиента функции потерь:  \n",
    "w = w − learning rate × error × X"
   ]
  },
  {
   "cell_type": "code",
   "execution_count": 29,
   "metadata": {},
   "outputs": [],
   "source": [
    "W = np.array([0.01, 0.1])"
   ]
  },
  {
   "cell_type": "code",
   "execution_count": 30,
   "metadata": {},
   "outputs": [
    {
     "data": {
      "text/plain": [
       "array([0.11, 0.11, 0.21, 0.11, 0.31, 0.01, 0.51, 1.01, 0.11, 0.21])"
      ]
     },
     "execution_count": 30,
     "metadata": {},
     "output_type": "execute_result"
    }
   ],
   "source": [
    "y_pred = np.dot(X, W)\n",
    "y_pred"
   ]
  },
  {
   "cell_type": "code",
   "execution_count": 31,
   "metadata": {},
   "outputs": [
    {
     "data": {
      "text/plain": [
       "3423.6233"
      ]
     },
     "execution_count": 31,
     "metadata": {},
     "output_type": "execute_result"
    }
   ],
   "source": [
    "calc_mse(y, y_pred)"
   ]
  },
  {
   "cell_type": "code",
   "execution_count": 32,
   "metadata": {
    "colab": {},
    "colab_type": "code",
    "id": "DNebwUP7Fd8F"
   },
   "outputs": [],
   "source": [
    "lr = 0.01"
   ]
  },
  {
   "cell_type": "code",
   "execution_count": 33,
   "metadata": {
    "colab": {},
    "colab_type": "code",
    "id": "5DKkvmkwHdOx"
   },
   "outputs": [],
   "source": [
    "grad_0 = (1/len(y))*lr*(2*np.sum(X[:,0]*(W[0]*X[:,0] - y)))\n",
    "grad_1 = (1/len(y))*lr*(2*np.sum(X[:,1]*(W[1]*X[:,1] - y)))"
   ]
  },
  {
   "cell_type": "code",
   "execution_count": 34,
   "metadata": {
    "colab": {
     "base_uri": "https://localhost:8080/",
     "height": 34
    },
    "colab_type": "code",
    "id": "ZVRCF5P2MYI6",
    "outputId": "0b0e2f05-a23c-4bf8-f37d-b4240d2e0af0"
   },
   "outputs": [
    {
     "data": {
      "text/plain": [
       "1.1578"
      ]
     },
     "execution_count": 34,
     "metadata": {},
     "output_type": "execute_result"
    }
   ],
   "source": [
    "W[0] = W[0] - grad_0; W[0]"
   ]
  },
  {
   "cell_type": "code",
   "execution_count": 35,
   "metadata": {},
   "outputs": [
    {
     "data": {
      "text/plain": [
       "3.6688"
      ]
     },
     "execution_count": 35,
     "metadata": {},
     "output_type": "execute_result"
    }
   ],
   "source": [
    "W[1] = W[1] - grad_1; W[1]"
   ]
  },
  {
   "cell_type": "code",
   "execution_count": 36,
   "metadata": {},
   "outputs": [
    {
     "data": {
      "text/plain": [
       "array([ 4.8266,  4.8266,  8.4954,  4.8266, 12.1642,  1.1578, 19.5018,\n",
       "       37.8458,  4.8266,  8.4954])"
      ]
     },
     "execution_count": 36,
     "metadata": {},
     "output_type": "execute_result"
    }
   ],
   "source": [
    "y_pred = np.dot(X, W)\n",
    "y_pred"
   ]
  },
  {
   "cell_type": "code",
   "execution_count": 37,
   "metadata": {},
   "outputs": [
    {
     "data": {
      "text/plain": [
       "2227.5964155919996"
      ]
     },
     "execution_count": 37,
     "metadata": {},
     "output_type": "execute_result"
    }
   ],
   "source": [
    "calc_mse(y, y_pred)"
   ]
  },
  {
   "cell_type": "code",
   "execution_count": null,
   "metadata": {},
   "outputs": [],
   "source": []
  },
  {
   "cell_type": "markdown",
   "metadata": {},
   "source": [
    "### Домашнее задание:"
   ]
  },
  {
   "cell_type": "markdown",
   "metadata": {
    "colab_type": "text",
    "id": "huXrhXQsZTMt"
   },
   "source": [
    "1. Подберите скорость обучения (lr) и количество итераций (epoch):"
   ]
  },
  {
   "cell_type": "code",
   "execution_count": 38,
   "metadata": {
    "colab": {
     "base_uri": "https://localhost:8080/",
     "height": 34
    },
    "colab_type": "code",
    "id": "VEXjDozNHdAo",
    "outputId": "7d12bb79-21b7-43fb-fd8e-d116a2af3bb7"
   },
   "outputs": [
    {
     "data": {
      "text/plain": [
       "(array([1. , 0.5]), 0.001)"
      ]
     },
     "execution_count": 38,
     "metadata": {},
     "output_type": "execute_result"
    }
   ],
   "source": [
    "n = X.shape[1]\n",
    "epoch = 300\n",
    "lr = 0.001\n",
    "W = np.array([1, 0.5])\n",
    "W, lr"
   ]
  },
  {
   "cell_type": "code",
   "execution_count": 39,
   "metadata": {
    "colab": {
     "base_uri": "https://localhost:8080/",
     "height": 185
    },
    "colab_type": "code",
    "id": "IDB22MQKMYaJ",
    "outputId": "4c03219e-a57c-4583-f439-6699fd0619bb"
   },
   "outputs": [
    {
     "name": "stdout",
     "output_type": "stream",
     "text": [
      "# итерация: 0, MSE: 3173.15, веса: [1.551 2.2  ]\n",
      "# итерация: 100, MSE: 414.5541707681394, веса: [21.1833847   8.72081594]\n",
      "# итерация: 200, MSE: 175.90244862743484, веса: [31.7649089   6.76685736]\n"
     ]
    }
   ],
   "source": [
    "for i in range(epoch):\n",
    "    y_pred = np.dot(X, W)\n",
    "    err = calc_mse(y, y_pred)\n",
    "    for j in range(W.shape[0]):\n",
    "        W[j] -= lr * (1/n * 2 * np.sum(X[:,j] * (y_pred - y)))\n",
    "    if i % 100 == 0:\n",
    "        print(f'# итерация: {i}, MSE: {err}, веса: {W}')"
   ]
  },
  {
   "cell_type": "code",
   "execution_count": 40,
   "metadata": {},
   "outputs": [
    {
     "data": {
      "text/plain": [
       "(array([1. , 0.5]), 0.0014)"
      ]
     },
     "execution_count": 40,
     "metadata": {},
     "output_type": "execute_result"
    }
   ],
   "source": [
    "# Итак, методом подбора определим оптимальное соотношение скорости обучения и количества итераций по MSE. Для наглядности\n",
    "# примем epoch = 4001, велечину lr подбираем в диапазоне от 0.05 до 0.0015:\n",
    "\n",
    "n = X.shape[1]\n",
    "epoch = 4001\n",
    "lr = 0.0014\n",
    "W = np.array([1, 0.5])\n",
    "W, lr"
   ]
  },
  {
   "cell_type": "code",
   "execution_count": 41,
   "metadata": {},
   "outputs": [
    {
     "name": "stdout",
     "output_type": "stream",
     "text": [
      "# итерация: 0, MSE: 3173.15, веса: [1.7714 2.88  ]\n",
      "# итерация: 100, MSE: 288.49383624031765, веса: [26.1460053   7.80443089]\n",
      "# итерация: 200, MSE: 102.21069101278312, веса: [37.07570315  5.78617857]\n",
      "# итерация: 300, MSE: 58.992908388192646, веса: [42.34014842  4.81405848]\n",
      "# итерация: 400, MSE: 48.96636125906345, веса: [44.87584378  4.34582294]\n",
      "# итерация: 500, MSE: 46.640197323122585, веса: [46.09719771  4.12029059]\n",
      "# итерация: 600, MSE: 46.10052612952179, веса: [46.6854803   4.01165971]\n",
      "# итерация: 700, MSE: 45.97532214337856, веса: [46.96883502  3.95933609]\n",
      "# итерация: 800, MSE: 45.946274756132325, веса: [47.10531687  3.93413367]\n",
      "# итерация: 900, MSE: 45.939535747800186, веса: [47.17105531  3.92199457]\n",
      "# итерация: 1000, MSE: 45.93797229450521, веса: [47.20271916  3.9161476 ]\n",
      "# итерация: 1100, MSE: 45.93760957256082, веса: [47.21797051  3.91333132]\n",
      "# итерация: 1200, MSE: 45.937525420888775, веса: [47.22531655  3.91197482]\n",
      "# итерация: 1300, MSE: 45.93750589765888, веса: [47.22885487  3.91132144]\n",
      "# итерация: 1400, MSE: 45.9375013682598, веса: [47.23055915  3.91100673]\n",
      "# итерация: 1500, MSE: 45.93750031743694, веса: [47.23138004  3.91085515]\n",
      "# итерация: 1600, MSE: 45.93750007364552, веса: [47.23177544  3.91078213]\n",
      "# итерация: 1700, MSE: 45.93750001708578, веса: [47.23196588  3.91074697]\n",
      "# итерация: 1800, MSE: 45.937500003963905, веса: [47.23205762  3.91073003]\n",
      "# итерация: 1900, MSE: 45.93750000091963, веса: [47.2321018   3.91072187]\n",
      "# итерация: 2000, MSE: 45.93750000021334, веса: [47.23212308  3.91071794]\n",
      "# итерация: 2100, MSE: 45.93750000004948, веса: [47.23213333  3.91071604]\n",
      "# итерация: 2200, MSE: 45.93750000001148, веса: [47.23213827  3.91071513]\n",
      "# итерация: 2300, MSE: 45.93750000000266, веса: [47.23214065  3.91071469]\n",
      "# итерация: 2400, MSE: 45.93750000000061, веса: [47.23214179  3.91071448]\n",
      "# итерация: 2500, MSE: 45.93750000000014, веса: [47.23214234  3.91071438]\n",
      "# итерация: 2600, MSE: 45.93750000000004, веса: [47.23214261  3.91071433]\n",
      "# итерация: 2700, MSE: 45.93750000000002, веса: [47.23214274  3.91071431]\n",
      "# итерация: 2800, MSE: 45.9375, веса: [47.2321428  3.9107143]\n",
      "# итерация: 2900, MSE: 45.93750000000001, веса: [47.23214283  3.91071429]\n",
      "# итерация: 3000, MSE: 45.9375, веса: [47.23214284  3.91071429]\n",
      "# итерация: 3100, MSE: 45.937500000000014, веса: [47.23214285  3.91071429]\n",
      "# итерация: 3200, MSE: 45.9375, веса: [47.23214285  3.91071429]\n",
      "# итерация: 3300, MSE: 45.9375, веса: [47.23214286  3.91071429]\n",
      "# итерация: 3400, MSE: 45.9375, веса: [47.23214286  3.91071429]\n",
      "# итерация: 3500, MSE: 45.93749999999999, веса: [47.23214286  3.91071429]\n",
      "# итерация: 3600, MSE: 45.937500000000014, веса: [47.23214286  3.91071429]\n",
      "# итерация: 3700, MSE: 45.937500000000014, веса: [47.23214286  3.91071429]\n",
      "# итерация: 3800, MSE: 45.93750000000001, веса: [47.23214286  3.91071429]\n",
      "# итерация: 3900, MSE: 45.93749999999999, веса: [47.23214286  3.91071429]\n",
      "# итерация: 4000, MSE: 45.937499999999986, веса: [47.23214286  3.91071429]\n"
     ]
    }
   ],
   "source": [
    "for i in range(epoch):\n",
    "    y_pred = np.dot(X, W)\n",
    "    err = calc_mse(y, y_pred)\n",
    "    for j in range(W.shape[0]):\n",
    "        W[j] -= lr * (1/n * 2 * np.sum(X[:,j] * (y_pred - y)))\n",
    "    if i % 100 == 0:\n",
    "        print(f'# итерация: {i}, MSE: {err}, веса: {W}')"
   ]
  },
  {
   "cell_type": "code",
   "execution_count": 42,
   "metadata": {},
   "outputs": [],
   "source": [
    "# Таким образом, методом подбора мы определили, что оптимальным соотношением значений MSE при минимальном \n",
    "# количестве эпох обучения, является соотношение скорости обучения при (lr)=0.0014 и количестве итераций (epoch)=2800."
   ]
  },
  {
   "cell_type": "code",
   "execution_count": null,
   "metadata": {},
   "outputs": [],
   "source": []
  }
 ],
 "metadata": {
  "colab": {
   "collapsed_sections": [],
   "name": "Lesson1.ipynb",
   "provenance": []
  },
  "kernelspec": {
   "display_name": "Python 3",
   "language": "python",
   "name": "python3"
  },
  "language_info": {
   "codemirror_mode": {
    "name": "ipython",
    "version": 3
   },
   "file_extension": ".py",
   "mimetype": "text/x-python",
   "name": "python",
   "nbconvert_exporter": "python",
   "pygments_lexer": "ipython3",
   "version": "3.7.4"
  }
 },
 "nbformat": 4,
 "nbformat_minor": 1
}
